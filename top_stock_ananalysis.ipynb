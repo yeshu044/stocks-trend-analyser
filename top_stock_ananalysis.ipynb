{
 "cells": [
  {
   "cell_type": "code",
   "execution_count": 1,
   "id": "35b5296a-bc4f-468f-81c7-579c7b5e9882",
   "metadata": {},
   "outputs": [
    {
     "ename": "NameError",
     "evalue": "name 'result_df' is not defined",
     "output_type": "error",
     "traceback": [
      "\u001b[0;31m---------------------------------------------------------------------------\u001b[0m",
      "\u001b[0;31mNameError\u001b[0m                                 Traceback (most recent call last)",
      "Cell \u001b[0;32mIn[1], line 20\u001b[0m\n\u001b[1;32m     17\u001b[0m table_name \u001b[38;5;241m=\u001b[39m \u001b[38;5;124m'\u001b[39m\u001b[38;5;124mstocks_day_level\u001b[39m\u001b[38;5;124m'\u001b[39m\n\u001b[1;32m     19\u001b[0m \u001b[38;5;66;03m# Insert the DataFrame into the PostgreSQL database\u001b[39;00m\n\u001b[0;32m---> 20\u001b[0m \u001b[43mresult_df\u001b[49m\u001b[38;5;241m.\u001b[39mto_sql(table_name, engine, index\u001b[38;5;241m=\u001b[39m\u001b[38;5;28;01mFalse\u001b[39;00m, if_exists\u001b[38;5;241m=\u001b[39m\u001b[38;5;124m'\u001b[39m\u001b[38;5;124mreplace\u001b[39m\u001b[38;5;124m'\u001b[39m)\n",
      "\u001b[0;31mNameError\u001b[0m: name 'result_df' is not defined"
     ]
    }
   ],
   "source": [
    "import pandas as pd\n",
    "from sqlalchemy import create_engine\n",
    "\n",
    "# Create a sample DataFrame\n",
    "\n",
    "# Database connection parameters\n",
    "db_username = 'user'\n",
    "db_password = 'password'\n",
    "db_host = 'localhost'\n",
    "db_port = '5432'\n",
    "db_name = 'postgres'\n",
    "\n",
    "# Create a SQLAlchemy engine\n",
    "engine = create_engine(f'postgresql://{db_username}:{db_password}@{db_host}:{db_port}/{db_name}')\n",
    "\n",
    "#"
   ]
  },
  {
   "cell_type": "code",
   "execution_count": 30,
   "id": "693bfcb6-f75f-4ec4-a613-a489f2604965",
   "metadata": {},
   "outputs": [
    {
     "name": "stdout",
     "output_type": "stream",
     "text": [
      "9.352974259652537\n",
      "162.44859143324734\n"
     ]
    }
   ],
   "source": [
    "import psycopg2\n",
    "from psycopg2 import sql\n",
    "\n",
    "# Replace these values with your database connection details\n",
    "db_params = {\n",
    "    'host': 'localhost',\n",
    "    'database': 'postgres',\n",
    "    'user': 'user',\n",
    "    'password': 'password',\n",
    "    'port': '5432'\n",
    "}\n",
    "\n",
    "# Establish a connection to the database\n",
    "conn = psycopg2.connect(**db_params)\n",
    "\n",
    "# Create a cursor object to execute SQL queries\n",
    "cursor = conn.cursor()\n",
    "\n",
    "# Example: Select all rows from a table\n",
    "table_name = 'top_share_behavior'\n",
    "for year in [('2017','2018'),('2018','2019'),('2019','2020'),('2020','2021'),('2021','2022'),('2022','2023'),('2023','2024')][-2:]:\n",
    "    select_query = sql.SQL(f\"select * from {table_name} where current_day > '{year[0]}-01-01' and current_day < '{year[1]}-01-01'  order by current_day asc\").format(sql.Identifier(table_name))\n",
    "    # print(f\"select * from {table_name} where current_day > '{year[0]}-01-01' and current_day < '{year[1]}-01-01'  order by current_day asc\")\n",
    "    # Execute the query\n",
    "    cursor.execute(select_query)\n",
    "    current_price = 1000\n",
    "    # Fetch all the rows\n",
    "    rows = cursor.fetchall()\n",
    "    \n",
    "    \n",
    "    # Iterate through the rows and print the results\n",
    "    for row in rows:\n",
    "        if row[-1]:\n",
    "            current_price = current_price +(current_price*float(row[-1])/100)\n",
    "            # print(float(row[-1]),current_price)\n",
    "    print(current_price)\n",
    "# Close the cursor and connection\n",
    "cursor.close()\n",
    "conn.close()\n"
   ]
  },
  {
   "cell_type": "code",
   "execution_count": null,
   "id": "4f4999f7-e9d4-41a0-8d06-171296bb7ee8",
   "metadata": {},
   "outputs": [],
   "source": []
  }
 ],
 "metadata": {
  "kernelspec": {
   "display_name": "Python 3 (ipykernel)",
   "language": "python",
   "name": "python3"
  },
  "language_info": {
   "codemirror_mode": {
    "name": "ipython",
    "version": 3
   },
   "file_extension": ".py",
   "mimetype": "text/x-python",
   "name": "python",
   "nbconvert_exporter": "python",
   "pygments_lexer": "ipython3",
   "version": "3.11.6"
  }
 },
 "nbformat": 4,
 "nbformat_minor": 5
}
