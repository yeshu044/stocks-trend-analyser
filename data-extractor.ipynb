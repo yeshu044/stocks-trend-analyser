{
 "cells": [
  {
   "cell_type": "code",
   "execution_count": 38,
   "id": "5428dd94-ada7-46bf-8275-512ebef30b80",
   "metadata": {},
   "outputs": [],
   "source": [
    "# !pip3 install yfinance\n",
    "# !pip3 install openpyxl"
   ]
  },
  {
   "cell_type": "code",
   "execution_count": 71,
   "id": "a70f477b-fbe9-435b-bd77-0757fae077c9",
   "metadata": {},
   "outputs": [],
   "source": [
    "import yfinance as yf\n",
    "import requests\n",
    "import pandas as pd\n",
    "from datetime import datetime,timedelta\n",
    "from google.cloud import bigquery\n",
    "import pandas_gbq\n"
   ]
  },
  {
   "cell_type": "code",
   "execution_count": 79,
   "id": "1ca1847e-ae15-4c8a-a88e-5623dba36889",
   "metadata": {},
   "outputs": [],
   "source": [
    "from pandas_gbq import to_gbq\n",
    "from google.oauth2 import service_account\n",
    "\n"
   ]
  },
  {
   "cell_type": "code",
   "execution_count": 73,
   "id": "3db16931-8d9b-40ab-9531-04e2ce88f0a3",
   "metadata": {},
   "outputs": [],
   "source": [
    "df = pd.read_excel(\"nse_stocks_list.xlsx\")"
   ]
  },
  {
   "cell_type": "code",
   "execution_count": 114,
   "id": "5ce1dcc6-8c07-459b-8414-37abeb32c703",
   "metadata": {},
   "outputs": [
    {
     "data": {
      "text/plain": [
       "['RELIANCE', 'TCS', 'HDFCBANK', 'ICICIBANK', 'HINDUNILVR']"
      ]
     },
     "execution_count": 114,
     "metadata": {},
     "output_type": "execute_result"
    }
   ],
   "source": [
    "symbols = list(df['Symbol'])\n",
    "symbols[:5]"
   ]
  },
  {
   "cell_type": "code",
   "execution_count": 115,
   "id": "78aed330-0574-4c4d-b38d-0d24bf41973f",
   "metadata": {},
   "outputs": [],
   "source": [
    "def create_bigquery_client(service_account_json_path):\n",
    "    # Specify the path to your service account JSON file\n",
    "    credentials = service_account_json_path\n",
    "\n",
    "    # Create a BigQuery client using the service account credentials\n",
    "    client = bigquery.Client.from_service_account_json(credentials)\n",
    "\n",
    "    return client\n",
    "\n",
    "# Replace 'path/to/your/service/account.json' with the actual path to your service account JSON file\n",
    "service_account_json_path = '/Users/velocity/Downloads/learning-260106-2ddc7f089aa8.json'\n",
    "client = create_bigquery_client(service_account_json_path,)\n",
    "credentials = service_account.Credentials.from_service_account_file(service_account_json_path)\n",
    "\n"
   ]
  },
  {
   "cell_type": "code",
   "execution_count": 116,
   "id": "cac41c8e-e89f-4a0f-a5c0-a9e7647a05c4",
   "metadata": {},
   "outputs": [],
   "source": [
    "# pandas_gbq.context.credentials = credentials"
   ]
  },
  {
   "cell_type": "code",
   "execution_count": 117,
   "id": "31d54742-350a-4382-aad2-753087fbd0be",
   "metadata": {},
   "outputs": [
    {
     "data": {
      "text/plain": [
       "2139"
      ]
     },
     "execution_count": 117,
     "metadata": {},
     "output_type": "execute_result"
    }
   ],
   "source": [
    "len(symbols)"
   ]
  },
  {
   "cell_type": "code",
   "execution_count": null,
   "id": "ea951743-8d7c-4afc-a7c6-78eb6820d080",
   "metadata": {},
   "outputs": [],
   "source": []
  },
  {
   "cell_type": "code",
   "execution_count": 143,
   "id": "2e1efc7d-e241-4d04-80bd-75149b4ba62e",
   "metadata": {},
   "outputs": [],
   "source": [
    "start_time = datetime.now()\n",
    "for i in symbols:\n",
    "    stock_symbol = i+'.NS'\n",
    "    end_date = datetime.now()\n",
    "    start_date = end_date - timedelta(days=6000)\n",
    "    # Download historical data\n",
    "    historical_data = yf.download(stock_symbol, start=start_date, end=end_date)\n",
    "    \n",
    "    historical_data = historical_data.astype(str)\n",
    "    historical_data['name'] = i\n",
    "    historical_data.to_csv(f\"csv/{i}.csv\")\n",
    "    # historical_data = pd.read_csv(\"test.csv\")\n",
    "    # historical_data = historical_data.astype(str)\n",
    "    # df.to_csv('test.csv', mode='a', header=False, index=False)\n",
    "\n",
    "    \n",
    "    # historical_data.to_gbq(destination_table='learning-260106.stocks.stocks_day_level_yf', project_id='learning-260106',credentials=credentials,if_exists='append')\n",
    "    # # to_gbq(historical_data, 'learning-260106.stocks.test', project_id='learning-260106.stocks.test', destination_client=client, if_exists='replace')\n",
    "end_time = datetime.now()\n"
   ]
  },
  {
   "cell_type": "code",
   "execution_count": 139,
   "id": "a129b319-1149-46f2-9fb6-94684d559f71",
   "metadata": {},
   "outputs": [
    {
     "data": {
      "text/plain": [
       "datetime.timedelta(seconds=1, microseconds=534266)"
      ]
     },
     "execution_count": 139,
     "metadata": {},
     "output_type": "execute_result"
    }
   ],
   "source": [
    "end_time - start_time"
   ]
  },
  {
   "cell_type": "code",
   "execution_count": 53,
   "id": "6b5e0d4a-3734-4fe4-b89a-b61414db86f1",
   "metadata": {},
   "outputs": [],
   "source": [
    "# response = client.query(\"select * from `learning-260106.test.test`\")"
   ]
  },
  {
   "cell_type": "code",
   "execution_count": null,
   "id": "485510fe-640c-467f-bc15-77c353e529b3",
   "metadata": {},
   "outputs": [],
   "source": []
  },
  {
   "cell_type": "code",
   "execution_count": null,
   "id": "366ae071-a2f9-481d-8556-49b6c20b3fef",
   "metadata": {},
   "outputs": [],
   "source": []
  },
  {
   "cell_type": "markdown",
   "id": "3ac61aab-248f-42bf-ac8a-f1800404bafe",
   "metadata": {},
   "source": [
    "#further steps\n",
    "\n",
    "\n",
    "I need to calcualte the difference percentage  which is day to day change based on the open and closed cost \n",
    "figure out the top 5 performers of that day - validate the data\n",
    "then check how that share is behaving next day\n"
   ]
  },
  {
   "cell_type": "markdown",
   "id": "59288dcf-b42e-4e60-934b-5a5fd0816584",
   "metadata": {},
   "source": []
  },
  {
   "cell_type": "code",
   "execution_count": 146,
   "id": "4f734564-79b4-432a-8aeb-1da7663ac046",
   "metadata": {},
   "outputs": [],
   "source": [
    "import pandas as pd\n",
    "import glob\n",
    "\n",
    "# Specify the path to the directory containing your files\n",
    "files_path = 'csv/*.csv'  # Replace with the appropriate file extension or pattern\n",
    "\n",
    "# Use glob to get a list of file names matching the specified pattern\n",
    "file_list = glob.glob(files_path)\n",
    "\n",
    "# Initialize an empty list to store DataFrames\n",
    "dfs = []\n",
    "\n",
    "# Loop through the list of files and read each into a DataFrame\n",
    "for file in file_list:\n",
    "    df = pd.read_csv(file)\n",
    "    df = df.astype(str)\n",
    "    dfs.append(df)\n",
    "\n",
    "# Concatenate the list of DataFrames into one DataFrame\n",
    "result_df = pd.concat(dfs, ignore_index=True)"
   ]
  },
  {
   "cell_type": "code",
   "execution_count": 147,
   "id": "2d62036e-495a-47da-acf9-2c7d9aca577b",
   "metadata": {},
   "outputs": [
    {
     "data": {
      "text/plain": [
       "(5551895, 8)"
      ]
     },
     "execution_count": 147,
     "metadata": {},
     "output_type": "execute_result"
    }
   ],
   "source": [
    "result_df.shape"
   ]
  },
  {
   "cell_type": "code",
   "execution_count": 148,
   "id": "cbbcbf4b-60cc-4e36-9ce2-552e77fc77b2",
   "metadata": {},
   "outputs": [
    {
     "name": "stderr",
     "output_type": "stream",
     "text": [
      "100%|███████████████████████████████████████████████████████████████████████████████████████████████████████████████████████████████████████████████████████████████████████| 1/1 [00:00<00:00, 5461.33it/s]\n"
     ]
    }
   ],
   "source": [
    "result_df.to_gbq(destination_table='learning-260106.stocks.stocks_day_level_yf', project_id='learning-260106',credentials=credentials,if_exists='append')\n",
    "    "
   ]
  },
  {
   "cell_type": "code",
   "execution_count": 155,
   "id": "0f53d970-0dc4-46d8-b3b3-c3f7ed4e721b",
   "metadata": {},
   "outputs": [
    {
     "data": {
      "text/plain": [
       "895"
      ]
     },
     "execution_count": 155,
     "metadata": {},
     "output_type": "execute_result"
    }
   ],
   "source": [
    "import pandas as pd\n",
    "from sqlalchemy import create_engine\n",
    "\n",
    "# Create a sample DataFrame\n",
    "\n",
    "# Database connection parameters\n",
    "db_username = 'user'\n",
    "db_password = 'password'\n",
    "db_host = 'localhost'\n",
    "db_port = '5432'\n",
    "db_name = 'postgres'\n",
    "\n",
    "# Create a SQLAlchemy engine\n",
    "engine = create_engine(f'postgresql://{db_username}:{db_password}@{db_host}:{db_port}/{db_name}')\n",
    "\n",
    "# Specify the table name in the database\n",
    "table_name = 'stocks_day_level'\n",
    "\n",
    "# Insert the DataFrame into the PostgreSQL database\n",
    "result_df.to_sql(table_name, engine, index=False, if_exists='replace')\n"
   ]
  },
  {
   "cell_type": "code",
   "execution_count": 154,
   "id": "46d6be59-1e5e-42ff-98c1-e3f62aba013f",
   "metadata": {},
   "outputs": [
    {
     "data": {
      "text/plain": [
       "(3144, 8)"
      ]
     },
     "execution_count": 154,
     "metadata": {},
     "output_type": "execute_result"
    }
   ],
   "source": [
    "df.shape"
   ]
  },
  {
   "cell_type": "code",
   "execution_count": null,
   "id": "29b74c70-b299-42c3-b634-0b2713a300f8",
   "metadata": {},
   "outputs": [],
   "source": []
  }
 ],
 "metadata": {
  "kernelspec": {
   "display_name": "Python 3 (ipykernel)",
   "language": "python",
   "name": "python3"
  },
  "language_info": {
   "codemirror_mode": {
    "name": "ipython",
    "version": 3
   },
   "file_extension": ".py",
   "mimetype": "text/x-python",
   "name": "python",
   "nbconvert_exporter": "python",
   "pygments_lexer": "ipython3",
   "version": "3.11.6"
  }
 },
 "nbformat": 4,
 "nbformat_minor": 5
}
